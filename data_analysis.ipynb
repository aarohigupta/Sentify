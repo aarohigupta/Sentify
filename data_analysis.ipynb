{
 "cells": [
  {
   "cell_type": "markdown",
   "metadata": {},
   "source": [
    "# Data analysis and processing"
   ]
  },
  {
   "cell_type": "code",
   "execution_count": 1,
   "metadata": {},
   "outputs": [],
   "source": [
    "# importing libraries\n",
    "import pandas as pd\n",
    "import numpy as np\n",
    "from matplotlib import pyplot as plt\n",
    "\n",
    "%matplotlib inline"
   ]
  },
  {
   "cell_type": "code",
   "execution_count": 2,
   "metadata": {},
   "outputs": [],
   "source": [
    "# read the data\n",
    "df = pd.read_csv(\"merged_spotify_muse.csv\")"
   ]
  },
  {
   "cell_type": "markdown",
   "metadata": {},
   "source": [
    "#### Converting sentiments to a list\n",
    "\n",
    "Analysing the merged_spotify_muse csv file, we found out that the sentiments are stored in a weirdly formatted string that looks like a string, so to make the process easier, we will first convert it to an actual list.\n",
    "\n",
    "A data point for sentiments looks like the following: [\"sentiment_1\", \"sentiment_2\", \"sentiment_3\"]\n",
    "Since this is a string, we need to do the following:\n",
    "1. Remove the brackets from the string\n",
    "2. make a list by delimiting the string using ','\n",
    "3. Remove the quotation marks from the sentiment names and make a new list\n",
    "4. Change the data point at each row"
   ]
  },
  {
   "cell_type": "code",
   "execution_count": 3,
   "metadata": {},
   "outputs": [
    {
     "name": "stderr",
     "output_type": "stream",
     "text": [
      "/var/folders/qm/b4r315zd3yj44nvm6xllpd940000gn/T/ipykernel_3709/1197470389.py:12: SettingWithCopyWarning: \n",
      "A value is trying to be set on a copy of a slice from a DataFrame\n",
      "\n",
      "See the caveats in the documentation: https://pandas.pydata.org/pandas-docs/stable/user_guide/indexing.html#returning-a-view-versus-a-copy\n",
      "  df['sentiments'][i] = change_list\n"
     ]
    }
   ],
   "source": [
    "i = 0\n",
    "for row in df['sentiments']:\n",
    "    # point 1\n",
    "    str = row[1:-1]\n",
    "    # point 2 \n",
    "    seed_list = str.split(\", \")\n",
    "    # point 3\n",
    "    change_list = [word[1:-1] for word in seed_list]\n",
    "    # point 4\n",
    "    df['sentiments'][i] = change_list\n",
    "    i += 1"
   ]
  },
  {
   "cell_type": "markdown",
   "metadata": {},
   "source": [
    "---> add more elements of data analysis here"
   ]
  },
  {
   "cell_type": "markdown",
   "metadata": {},
   "source": [
    "#### Remove any songs with multiple sentiments\n",
    "\n",
    "We realised that for our first model, it would be best to work with a simpler dataset that classifies data to a singular value. Thus, it made the most sense to remove any data points with more than one sentiment associated with it."
   ]
  },
  {
   "cell_type": "markdown",
   "metadata": {},
   "source": []
  }
 ],
 "metadata": {
  "interpreter": {
   "hash": "7304b09f3022c66baf7aa1db98922ee0d0f0c8b92cefee9c279aaf14f0753e32"
  },
  "kernelspec": {
   "display_name": "Python 3.9.7 ('data-preprocessing')",
   "language": "python",
   "name": "python3"
  },
  "language_info": {
   "codemirror_mode": {
    "name": "ipython",
    "version": 3
   },
   "file_extension": ".py",
   "mimetype": "text/x-python",
   "name": "python",
   "nbconvert_exporter": "python",
   "pygments_lexer": "ipython3",
   "version": "3.9.7"
  },
  "orig_nbformat": 4
 },
 "nbformat": 4,
 "nbformat_minor": 2
}
