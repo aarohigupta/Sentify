{
 "cells": [
  {
   "cell_type": "code",
   "execution_count": 1,
   "metadata": {},
   "outputs": [],
   "source": [
    "import pandas as pd\n",
    "import numpy as np\n",
    "from matplotlib import pyplot as plt\n",
    "\n",
    "%matplotlib inline "
   ]
  },
  {
   "cell_type": "code",
   "execution_count": 2,
   "metadata": {},
   "outputs": [
    {
     "data": {
      "text/html": [
       "<div>\n",
       "<style scoped>\n",
       "    .dataframe tbody tr th:only-of-type {\n",
       "        vertical-align: middle;\n",
       "    }\n",
       "\n",
       "    .dataframe tbody tr th {\n",
       "        vertical-align: top;\n",
       "    }\n",
       "\n",
       "    .dataframe thead th {\n",
       "        text-align: right;\n",
       "    }\n",
       "</style>\n",
       "<table border=\"1\" class=\"dataframe\">\n",
       "  <thead>\n",
       "    <tr style=\"text-align: right;\">\n",
       "      <th></th>\n",
       "      <th>lastfm_url</th>\n",
       "      <th>track</th>\n",
       "      <th>artist</th>\n",
       "      <th>seeds</th>\n",
       "      <th>number_of_emotion_tags</th>\n",
       "      <th>valence_tags</th>\n",
       "      <th>arousal_tags</th>\n",
       "      <th>dominance_tags</th>\n",
       "      <th>mbid</th>\n",
       "      <th>spotify_id</th>\n",
       "      <th>genre</th>\n",
       "    </tr>\n",
       "  </thead>\n",
       "  <tbody>\n",
       "    <tr>\n",
       "      <th>0</th>\n",
       "      <td>https://www.last.fm/music/eminem/_/%2527till%2...</td>\n",
       "      <td>'Till I Collapse</td>\n",
       "      <td>Eminem</td>\n",
       "      <td>['aggressive']</td>\n",
       "      <td>6</td>\n",
       "      <td>4.550000</td>\n",
       "      <td>5.273125</td>\n",
       "      <td>5.690625</td>\n",
       "      <td>cab93def-26c5-4fb0-bedd-26ec4c1619e1</td>\n",
       "      <td>4xkOaSrkexMciUUogZKVTS</td>\n",
       "      <td>rap</td>\n",
       "    </tr>\n",
       "    <tr>\n",
       "      <th>1</th>\n",
       "      <td>https://www.last.fm/music/metallica/_/st.%2banger</td>\n",
       "      <td>St. Anger</td>\n",
       "      <td>Metallica</td>\n",
       "      <td>['aggressive']</td>\n",
       "      <td>8</td>\n",
       "      <td>3.710000</td>\n",
       "      <td>5.833000</td>\n",
       "      <td>5.427250</td>\n",
       "      <td>727a2529-7ee8-4860-aef6-7959884895cb</td>\n",
       "      <td>3fOc9x06lKJBhz435mInlH</td>\n",
       "      <td>metal</td>\n",
       "    </tr>\n",
       "    <tr>\n",
       "      <th>2</th>\n",
       "      <td>https://www.last.fm/music/rick%2bross/_/speedi...</td>\n",
       "      <td>Speedin'</td>\n",
       "      <td>Rick Ross</td>\n",
       "      <td>['aggressive']</td>\n",
       "      <td>1</td>\n",
       "      <td>3.080000</td>\n",
       "      <td>5.870000</td>\n",
       "      <td>5.490000</td>\n",
       "      <td>NaN</td>\n",
       "      <td>3Y96xd4Ce0J47dcalLrEC8</td>\n",
       "      <td>rap</td>\n",
       "    </tr>\n",
       "    <tr>\n",
       "      <th>3</th>\n",
       "      <td>https://www.last.fm/music/m.i.a./_/bamboo%2bbanga</td>\n",
       "      <td>Bamboo Banga</td>\n",
       "      <td>M.I.A.</td>\n",
       "      <td>['aggressive', 'fun', 'sexy', 'energetic']</td>\n",
       "      <td>13</td>\n",
       "      <td>6.555071</td>\n",
       "      <td>5.537214</td>\n",
       "      <td>5.691357</td>\n",
       "      <td>99dd2c8c-e7c1-413e-8ea4-4497a00ffa18</td>\n",
       "      <td>6tqFC1DIOphJkCwrjVzPmg</td>\n",
       "      <td>hip-hop</td>\n",
       "    </tr>\n",
       "    <tr>\n",
       "      <th>4</th>\n",
       "      <td>https://www.last.fm/music/dope/_/die%2bmf%2bdie</td>\n",
       "      <td>Die MF Die</td>\n",
       "      <td>Dope</td>\n",
       "      <td>['aggressive']</td>\n",
       "      <td>7</td>\n",
       "      <td>3.771176</td>\n",
       "      <td>5.348235</td>\n",
       "      <td>5.441765</td>\n",
       "      <td>b9eb3484-5e0e-4690-ab5a-ca91937032a5</td>\n",
       "      <td>5bU4KX47KqtDKKaLM4QCzh</td>\n",
       "      <td>metal</td>\n",
       "    </tr>\n",
       "  </tbody>\n",
       "</table>\n",
       "</div>"
      ],
      "text/plain": [
       "                                          lastfm_url             track  \\\n",
       "0  https://www.last.fm/music/eminem/_/%2527till%2...  'Till I Collapse   \n",
       "1  https://www.last.fm/music/metallica/_/st.%2banger         St. Anger   \n",
       "2  https://www.last.fm/music/rick%2bross/_/speedi...          Speedin'   \n",
       "3  https://www.last.fm/music/m.i.a./_/bamboo%2bbanga      Bamboo Banga   \n",
       "4    https://www.last.fm/music/dope/_/die%2bmf%2bdie        Die MF Die   \n",
       "\n",
       "      artist                                       seeds  \\\n",
       "0     Eminem                              ['aggressive']   \n",
       "1  Metallica                              ['aggressive']   \n",
       "2  Rick Ross                              ['aggressive']   \n",
       "3     M.I.A.  ['aggressive', 'fun', 'sexy', 'energetic']   \n",
       "4       Dope                              ['aggressive']   \n",
       "\n",
       "   number_of_emotion_tags  valence_tags  arousal_tags  dominance_tags  \\\n",
       "0                       6      4.550000      5.273125        5.690625   \n",
       "1                       8      3.710000      5.833000        5.427250   \n",
       "2                       1      3.080000      5.870000        5.490000   \n",
       "3                      13      6.555071      5.537214        5.691357   \n",
       "4                       7      3.771176      5.348235        5.441765   \n",
       "\n",
       "                                   mbid              spotify_id    genre  \n",
       "0  cab93def-26c5-4fb0-bedd-26ec4c1619e1  4xkOaSrkexMciUUogZKVTS      rap  \n",
       "1  727a2529-7ee8-4860-aef6-7959884895cb  3fOc9x06lKJBhz435mInlH    metal  \n",
       "2                                   NaN  3Y96xd4Ce0J47dcalLrEC8      rap  \n",
       "3  99dd2c8c-e7c1-413e-8ea4-4497a00ffa18  6tqFC1DIOphJkCwrjVzPmg  hip-hop  \n",
       "4  b9eb3484-5e0e-4690-ab5a-ca91937032a5  5bU4KX47KqtDKKaLM4QCzh    metal  "
      ]
     },
     "execution_count": 2,
     "metadata": {},
     "output_type": "execute_result"
    }
   ],
   "source": [
    "df = pd.read_csv('muse_v3.csv',engine='python')\n",
    "df.head()"
   ]
  },
  {
   "cell_type": "code",
   "execution_count": 3,
   "metadata": {},
   "outputs": [
    {
     "data": {
      "text/plain": [
       "11"
      ]
     },
     "execution_count": 3,
     "metadata": {},
     "output_type": "execute_result"
    }
   ],
   "source": [
    "# number of columns\n",
    "number_col = len(df.columns)\n",
    "number_col"
   ]
  },
  {
   "cell_type": "code",
   "execution_count": 4,
   "metadata": {},
   "outputs": [
    {
     "data": {
      "text/plain": [
       "90001"
      ]
     },
     "execution_count": 4,
     "metadata": {},
     "output_type": "execute_result"
    }
   ],
   "source": [
    "number_row = df.shape[0]\n",
    "number_row"
   ]
  },
  {
   "cell_type": "code",
   "execution_count": 5,
   "metadata": {},
   "outputs": [
    {
     "data": {
      "text/plain": [
       "count          90001\n",
       "unique          9031\n",
       "top       ['sleazy']\n",
       "freq             938\n",
       "Name: seeds, dtype: object"
      ]
     },
     "execution_count": 5,
     "metadata": {},
     "output_type": "execute_result"
    }
   ],
   "source": [
    "df['seeds'].describe()"
   ]
  },
  {
   "cell_type": "code",
   "execution_count": 6,
   "metadata": {},
   "outputs": [],
   "source": [
    "def valence_levels(row): \n",
    "    if row['valence_tags'] <= df['valence_tags'].mean(): \n",
    "        return \"low\"\n",
    "    else:\n",
    "        return \"high\""
   ]
  },
  {
   "cell_type": "code",
   "execution_count": 8,
   "metadata": {},
   "outputs": [],
   "source": [
    "df['Valence_levels'] = df.apply(valence_levels,axis=1)"
   ]
  },
  {
   "cell_type": "code",
   "execution_count": 9,
   "metadata": {},
   "outputs": [],
   "source": [
    "def arousal_levels(row): \n",
    "    if row['arousal_tags'] <= df['arousal_tags'].mean(): \n",
    "        return \"low\"\n",
    "    else:\n",
    "        return \"high\""
   ]
  },
  {
   "cell_type": "code",
   "execution_count": 10,
   "metadata": {},
   "outputs": [],
   "source": [
    "df['Arousal_levels'] = df.apply(arousal_levels,axis=1)"
   ]
  },
  {
   "cell_type": "code",
   "execution_count": 11,
   "metadata": {},
   "outputs": [],
   "source": [
    "def dominance_levels(row): \n",
    "    if row['dominance_tags'] <= df['dominance_tags'].mean(): \n",
    "        return \"low\"\n",
    "    else:\n",
    "        return \"high\""
   ]
  },
  {
   "cell_type": "code",
   "execution_count": 12,
   "metadata": {},
   "outputs": [],
   "source": [
    "df['Dominance_levels'] = df.apply(dominance_levels,axis=1)"
   ]
  },
  {
   "cell_type": "code",
   "execution_count": 13,
   "metadata": {},
   "outputs": [
    {
     "data": {
      "text/plain": [
       "Valence_levels  genre     \n",
       "high            8-bit          7\n",
       "                a cappella    20\n",
       "                abstract       1\n",
       "                accordeon      0\n",
       "                accordion      5\n",
       "                              ..\n",
       "low             worship       24\n",
       "                wu fam         0\n",
       "                yoga          15\n",
       "                yoik           1\n",
       "                zeuhl          8\n",
       "Name: spotify_id, Length: 1291, dtype: int64"
      ]
     },
     "execution_count": 13,
     "metadata": {},
     "output_type": "execute_result"
    }
   ],
   "source": [
    "df.groupby(['Valence_levels','genre'])['spotify_id'].count()"
   ]
  },
  {
   "cell_type": "code",
   "execution_count": 14,
   "metadata": {},
   "outputs": [
    {
     "data": {
      "text/plain": [
       "(array([   59.,   314.,   887.,  1087.,  4038.,  6336.,  7074.,  7006.,\n",
       "         8665., 11235., 10668., 12703., 10991.,  7155.,  1783.]),\n",
       " array([0.235     , 0.78433333, 1.33366667, 1.883     , 2.43233333,\n",
       "        2.98166667, 3.531     , 4.08033333, 4.62966667, 5.179     ,\n",
       "        5.72833333, 6.27766667, 6.827     , 7.37633333, 7.92566667,\n",
       "        8.475     ]),\n",
       " <BarContainer object of 15 artists>)"
      ]
     },
     "execution_count": 14,
     "metadata": {},
     "output_type": "execute_result"
    },
    {
     "data": {
      "image/png": "[encoded data removed]",
      "text/plain": [
       "<Figure size 432x288 with 1 Axes>"
      ]
     },
     "metadata": {
      "needs_background": "light"
     },
     "output_type": "display_data"
    }
   ],
   "source": [
    "plt.hist(df.valence_tags,bins=15)"
   ]
  },
  {
   "cell_type": "code",
   "execution_count": 15,
   "metadata": {},
   "outputs": [
    {
     "data": {
      "text/plain": [
       "(array([   36.,   118.,   306.,   844.,  1276.,  2159.,  4104.,  5682.,\n",
       "         8030., 11363., 12831., 16703., 14716.,  8840.,  2993.]),\n",
       " array([0.22923077, 0.70994872, 1.19066667, 1.67138462, 2.15210256,\n",
       "        2.63282051, 3.11353846, 3.59425641, 4.07497436, 4.55569231,\n",
       "        5.03641026, 5.51712821, 5.99784615, 6.4785641 , 6.95928205,\n",
       "        7.44      ]),\n",
       " <BarContainer object of 15 artists>)"
      ]
     },
     "execution_count": 15,
     "metadata": {},
     "output_type": "execute_result"
    },
    {
     "data": {
      "image/png": "[encoded data removed]",
      "text/plain": [
       "<Figure size 432x288 with 1 Axes>"
      ]
     },
     "metadata": {
      "needs_background": "light"
     },
     "output_type": "display_data"
    }
   ],
   "source": [
    "plt.hist(df.dominance_tags,bins=15)"
   ]
  },
  {
   "cell_type": "code",
   "execution_count": 16,
   "metadata": {},
   "outputs": [
    {
     "data": {
      "text/plain": [
       "(array([   47.,   272.,   642.,  1784.,  3081.,  4568., 10137., 11532.,\n",
       "        15838., 12912., 12051.,  9314.,  4823.,  1629.,  1371.]),\n",
       " array([0.10811321, 0.58557233, 1.06303145, 1.54049057, 2.01794969,\n",
       "        2.49540881, 2.97286792, 3.45032704, 3.92778616, 4.40524528,\n",
       "        4.8827044 , 5.36016352, 5.83762264, 6.31508176, 6.79254088,\n",
       "        7.27      ]),\n",
       " <BarContainer object of 15 artists>)"
      ]
     },
     "execution_count": 16,
     "metadata": {},
     "output_type": "execute_result"
    },
    {
     "data": {
      "image/png": "[encoded data removed]",
      "text/plain": [
       "<Figure size 432x288 with 1 Axes>"
      ]
     },
     "metadata": {
      "needs_background": "light"
     },
     "output_type": "display_data"
    }
   ],
   "source": [
    "plt.hist(df.arousal_tags,bins=15)"
   ]
  },
  {
   "cell_type": "code",
   "execution_count": 17,
   "metadata": {},
   "outputs": [
    {
     "data": {
      "text/plain": [
       "lastfm_url                 object\n",
       "track                      object\n",
       "artist                     object\n",
       "seeds                      object\n",
       "number_of_emotion_tags      int64\n",
       "valence_tags              float64\n",
       "arousal_tags              float64\n",
       "dominance_tags            float64\n",
       "mbid                       object\n",
       "spotify_id                 object\n",
       "genre                      object\n",
       "Valence_levels             object\n",
       "Arousal_levels             object\n",
       "Dominance_levels           object\n",
       "dtype: object"
      ]
     },
     "execution_count": 17,
     "metadata": {},
     "output_type": "execute_result"
    }
   ],
   "source": [
    "df.dtypes"
   ]
  },
  {
   "cell_type": "markdown",
   "metadata": {},
   "source": [
    "This is a dataset that describes different sentiment qualities of songs, categorized by groups like genres and \"seeds\", which are essentially mood tags. There are 90000 rows in total, so we have information about 90000 songs. There are also 11 columns that give data about each song. Some interesting columns are:\n",
    "\n",
    "1. valence: \"the pleasantness of a stimulus\"\n",
    "2. arousal: \"the intensity of emotion provoked by a stimulus\"\n",
    "3. dominance: \"the degree of control exerted by a stimulus\"\n",
    "\n",
    "All three of these columns are stored using the data type \"float64\". The column \"number_of_emotion_tags\" uses int64, and all other columns use the \"object\" type.\n",
    "\n",
    "We would like to predict the valence, arousal, and dominance levels according to seed. We can also determine these levels by genre.\n",
    "\n",
    "Looking our histogram visualizations, the graphs seem to skewed to the left for valence and dominance, which means that most songs have relatively high valence and dominance levels. Whereas, the arousal histogram is more equally distributed, so more songs fall around the median arousal level of the dataset.\n",
    "\n",
    "Some of the elements in the dataset do not have values (NaN). Also, there seems to be a bias in the data towards certain kinds of music. Additional information/columns that could be helpful to the data are tempo, playlists the songs have been added to, instrumentality-to-voice percentages, and the release year of songs.\n"
   ]
  },
  {
   "cell_type": "markdown",
   "metadata": {},
   "source": []
  }
 ],
 "metadata": {
  "interpreter": {
   "hash": "767d51c1340bd893661ea55ea3124f6de3c7a262a8b4abca0554b478b1e2ff90"
  },
  "kernelspec": {
   "display_name": "Python 2.7.16 64-bit",
   "language": "python",
   "name": "python3"
  },
  "language_info": {
   "codemirror_mode": {
    "name": "ipython",
    "version": 3
   },
   "file_extension": ".py",
   "mimetype": "text/x-python",
   "name": "python",
   "nbconvert_exporter": "python",
   "pygments_lexer": "ipython3",
   "version": "3.9.7"
  },
  "orig_nbformat": 4
 },
 "nbformat": 4,
 "nbformat_minor": 2
}
