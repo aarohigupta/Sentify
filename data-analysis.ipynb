{
 "cells": [
  {
   "cell_type": "code",
   "execution_count": 1,
   "metadata": {},
   "outputs": [],
   "source": [
    "import pandas as pd\n",
    "import numpy as np\n",
    "from matplotlib import pyplot as plt\n",
    "\n",
    "%matplotlib inline"
   ]
  },
  {
   "cell_type": "code",
   "execution_count": 2,
   "metadata": {},
   "outputs": [],
   "source": [
    "data = pd.read_csv(\"spotify_and_muse_data.csv\")\n",
    "data = data.drop_duplicates(subset=\"id\")\n",
    "data = data.dropna(subset=['sentiments'])"
   ]
  },
  {
   "cell_type": "code",
   "execution_count": 3,
   "metadata": {},
   "outputs": [
    {
     "data": {
      "text/html": [
       "<div>\n",
       "<style scoped>\n",
       "    .dataframe tbody tr th:only-of-type {\n",
       "        vertical-align: middle;\n",
       "    }\n",
       "\n",
       "    .dataframe tbody tr th {\n",
       "        vertical-align: top;\n",
       "    }\n",
       "\n",
       "    .dataframe thead th {\n",
       "        text-align: right;\n",
       "    }\n",
       "</style>\n",
       "<table border=\"1\" class=\"dataframe\">\n",
       "  <thead>\n",
       "    <tr style=\"text-align: right;\">\n",
       "      <th></th>\n",
       "      <th>id</th>\n",
       "      <th>title</th>\n",
       "      <th>artist</th>\n",
       "      <th>danceability</th>\n",
       "      <th>energy</th>\n",
       "      <th>key</th>\n",
       "      <th>loudness</th>\n",
       "      <th>mode</th>\n",
       "      <th>acousticness</th>\n",
       "      <th>instrumentalness</th>\n",
       "      <th>liveness</th>\n",
       "      <th>valence</th>\n",
       "      <th>tempo</th>\n",
       "      <th>duration_ms</th>\n",
       "      <th>time_signature</th>\n",
       "      <th>sentiments</th>\n",
       "      <th>no_of_tags</th>\n",
       "    </tr>\n",
       "  </thead>\n",
       "  <tbody>\n",
       "    <tr>\n",
       "      <th>0</th>\n",
       "      <td>6NMG1f5QGi1fadM1fJdEaw</td>\n",
       "      <td>Pig</td>\n",
       "      <td>Sparklehorse</td>\n",
       "      <td>0.310</td>\n",
       "      <td>0.912</td>\n",
       "      <td>1</td>\n",
       "      <td>-6.792</td>\n",
       "      <td>1</td>\n",
       "      <td>0.040100</td>\n",
       "      <td>0.021300</td>\n",
       "      <td>0.3090</td>\n",
       "      <td>0.1550</td>\n",
       "      <td>76.266</td>\n",
       "      <td>143067</td>\n",
       "      <td>4</td>\n",
       "      <td>['angry', 'energetic']</td>\n",
       "      <td>3</td>\n",
       "    </tr>\n",
       "    <tr>\n",
       "      <th>1</th>\n",
       "      <td>4WZb6UurjjVs2W6ClgwirI</td>\n",
       "      <td>Hell Broke Luce</td>\n",
       "      <td>Tom Waits</td>\n",
       "      <td>0.617</td>\n",
       "      <td>0.995</td>\n",
       "      <td>0</td>\n",
       "      <td>-5.922</td>\n",
       "      <td>1</td>\n",
       "      <td>0.546000</td>\n",
       "      <td>0.000080</td>\n",
       "      <td>0.2820</td>\n",
       "      <td>0.2980</td>\n",
       "      <td>80.017</td>\n",
       "      <td>236067</td>\n",
       "      <td>4</td>\n",
       "      <td>['angry']</td>\n",
       "      <td>4</td>\n",
       "    </tr>\n",
       "    <tr>\n",
       "      <th>2</th>\n",
       "      <td>6SXmPZBeILQOR5zdQbkm47</td>\n",
       "      <td>Dog Faced Boy</td>\n",
       "      <td>Eels</td>\n",
       "      <td>0.659</td>\n",
       "      <td>0.926</td>\n",
       "      <td>4</td>\n",
       "      <td>-5.836</td>\n",
       "      <td>1</td>\n",
       "      <td>0.164000</td>\n",
       "      <td>0.004690</td>\n",
       "      <td>0.0822</td>\n",
       "      <td>0.5120</td>\n",
       "      <td>119.012</td>\n",
       "      <td>197067</td>\n",
       "      <td>4</td>\n",
       "      <td>['angry']</td>\n",
       "      <td>2</td>\n",
       "    </tr>\n",
       "    <tr>\n",
       "      <th>3</th>\n",
       "      <td>4KwBfWIgYAFCQQgXTAVZyw</td>\n",
       "      <td>Feel</td>\n",
       "      <td>Stereophonics</td>\n",
       "      <td>0.351</td>\n",
       "      <td>0.800</td>\n",
       "      <td>7</td>\n",
       "      <td>-3.706</td>\n",
       "      <td>0</td>\n",
       "      <td>0.077300</td>\n",
       "      <td>0.000772</td>\n",
       "      <td>0.1510</td>\n",
       "      <td>0.0783</td>\n",
       "      <td>142.068</td>\n",
       "      <td>224933</td>\n",
       "      <td>4</td>\n",
       "      <td>['angry']</td>\n",
       "      <td>3</td>\n",
       "    </tr>\n",
       "    <tr>\n",
       "      <th>4</th>\n",
       "      <td>2UXzCNvGSXfjeU5Iynwqhp</td>\n",
       "      <td>The Promise</td>\n",
       "      <td>The Cure</td>\n",
       "      <td>0.340</td>\n",
       "      <td>0.933</td>\n",
       "      <td>5</td>\n",
       "      <td>-3.944</td>\n",
       "      <td>1</td>\n",
       "      <td>0.000625</td>\n",
       "      <td>0.143000</td>\n",
       "      <td>0.4230</td>\n",
       "      <td>0.1670</td>\n",
       "      <td>179.985</td>\n",
       "      <td>616520</td>\n",
       "      <td>3</td>\n",
       "      <td>['angry', 'intense', 'dark', 'powerful', 'atmo...</td>\n",
       "      <td>23</td>\n",
       "    </tr>\n",
       "    <tr>\n",
       "      <th>...</th>\n",
       "      <td>...</td>\n",
       "      <td>...</td>\n",
       "      <td>...</td>\n",
       "      <td>...</td>\n",
       "      <td>...</td>\n",
       "      <td>...</td>\n",
       "      <td>...</td>\n",
       "      <td>...</td>\n",
       "      <td>...</td>\n",
       "      <td>...</td>\n",
       "      <td>...</td>\n",
       "      <td>...</td>\n",
       "      <td>...</td>\n",
       "      <td>...</td>\n",
       "      <td>...</td>\n",
       "      <td>...</td>\n",
       "      <td>...</td>\n",
       "    </tr>\n",
       "    <tr>\n",
       "      <th>60995</th>\n",
       "      <td>62TvqP6vN10VA2Z2PXt4Tl</td>\n",
       "      <td>Trees Keep Growing</td>\n",
       "      <td>Azure Ray</td>\n",
       "      <td>0.475</td>\n",
       "      <td>0.104</td>\n",
       "      <td>0</td>\n",
       "      <td>-18.152</td>\n",
       "      <td>1</td>\n",
       "      <td>0.621000</td>\n",
       "      <td>0.590000</td>\n",
       "      <td>0.0999</td>\n",
       "      <td>0.0386</td>\n",
       "      <td>72.923</td>\n",
       "      <td>198107</td>\n",
       "      <td>1</td>\n",
       "      <td>['soft']</td>\n",
       "      <td>9</td>\n",
       "    </tr>\n",
       "    <tr>\n",
       "      <th>60996</th>\n",
       "      <td>6f3ROsQr9nwzEjRN7ITIp5</td>\n",
       "      <td>Wounded Head</td>\n",
       "      <td>William Fitzsimmons</td>\n",
       "      <td>0.603</td>\n",
       "      <td>0.317</td>\n",
       "      <td>7</td>\n",
       "      <td>-13.908</td>\n",
       "      <td>1</td>\n",
       "      <td>0.725000</td>\n",
       "      <td>0.006850</td>\n",
       "      <td>0.1940</td>\n",
       "      <td>0.5390</td>\n",
       "      <td>157.670</td>\n",
       "      <td>177970</td>\n",
       "      <td>3</td>\n",
       "      <td>['soft']</td>\n",
       "      <td>1</td>\n",
       "    </tr>\n",
       "    <tr>\n",
       "      <th>60997</th>\n",
       "      <td>6437L2kB4GdbDdJbXLOu3G</td>\n",
       "      <td>Friendboats</td>\n",
       "      <td>Mariee Sioux</td>\n",
       "      <td>0.435</td>\n",
       "      <td>0.300</td>\n",
       "      <td>2</td>\n",
       "      <td>-11.222</td>\n",
       "      <td>1</td>\n",
       "      <td>0.903000</td>\n",
       "      <td>0.000711</td>\n",
       "      <td>0.1200</td>\n",
       "      <td>0.1160</td>\n",
       "      <td>96.871</td>\n",
       "      <td>219893</td>\n",
       "      <td>4</td>\n",
       "      <td>['soft']</td>\n",
       "      <td>10</td>\n",
       "    </tr>\n",
       "    <tr>\n",
       "      <th>60998</th>\n",
       "      <td>3KF7PrnyI0iswl5BhIIyfU</td>\n",
       "      <td>Oh!</td>\n",
       "      <td>Micky Green</td>\n",
       "      <td>0.893</td>\n",
       "      <td>0.477</td>\n",
       "      <td>10</td>\n",
       "      <td>-7.369</td>\n",
       "      <td>0</td>\n",
       "      <td>0.380000</td>\n",
       "      <td>0.000008</td>\n",
       "      <td>0.1340</td>\n",
       "      <td>0.4810</td>\n",
       "      <td>120.068</td>\n",
       "      <td>227027</td>\n",
       "      <td>4</td>\n",
       "      <td>['soft']</td>\n",
       "      <td>3</td>\n",
       "    </tr>\n",
       "    <tr>\n",
       "      <th>60999</th>\n",
       "      <td>3CXCy292csbL8S8X2DOnxT</td>\n",
       "      <td>The Christmas Song</td>\n",
       "      <td>Catherine Feeny</td>\n",
       "      <td>0.634</td>\n",
       "      <td>0.120</td>\n",
       "      <td>7</td>\n",
       "      <td>-15.085</td>\n",
       "      <td>1</td>\n",
       "      <td>0.887000</td>\n",
       "      <td>0.000000</td>\n",
       "      <td>0.1210</td>\n",
       "      <td>0.3420</td>\n",
       "      <td>70.486</td>\n",
       "      <td>201027</td>\n",
       "      <td>3</td>\n",
       "      <td>['soft']</td>\n",
       "      <td>3</td>\n",
       "    </tr>\n",
       "  </tbody>\n",
       "</table>\n",
       "<p>59847 rows × 17 columns</p>\n",
       "</div>"
      ],
      "text/plain": [
       "                           id               title               artist  \\\n",
       "0      6NMG1f5QGi1fadM1fJdEaw                 Pig         Sparklehorse   \n",
       "1      4WZb6UurjjVs2W6ClgwirI     Hell Broke Luce            Tom Waits   \n",
       "2      6SXmPZBeILQOR5zdQbkm47       Dog Faced Boy                 Eels   \n",
       "3      4KwBfWIgYAFCQQgXTAVZyw                Feel        Stereophonics   \n",
       "4      2UXzCNvGSXfjeU5Iynwqhp         The Promise             The Cure   \n",
       "...                       ...                 ...                  ...   \n",
       "60995  62TvqP6vN10VA2Z2PXt4Tl  Trees Keep Growing            Azure Ray   \n",
       "60996  6f3ROsQr9nwzEjRN7ITIp5        Wounded Head  William Fitzsimmons   \n",
       "60997  6437L2kB4GdbDdJbXLOu3G         Friendboats         Mariee Sioux   \n",
       "60998  3KF7PrnyI0iswl5BhIIyfU                 Oh!          Micky Green   \n",
       "60999  3CXCy292csbL8S8X2DOnxT  The Christmas Song      Catherine Feeny   \n",
       "\n",
       "       danceability  energy  key  loudness  mode  acousticness  \\\n",
       "0             0.310   0.912    1    -6.792     1      0.040100   \n",
       "1             0.617   0.995    0    -5.922     1      0.546000   \n",
       "2             0.659   0.926    4    -5.836     1      0.164000   \n",
       "3             0.351   0.800    7    -3.706     0      0.077300   \n",
       "4             0.340   0.933    5    -3.944     1      0.000625   \n",
       "...             ...     ...  ...       ...   ...           ...   \n",
       "60995         0.475   0.104    0   -18.152     1      0.621000   \n",
       "60996         0.603   0.317    7   -13.908     1      0.725000   \n",
       "60997         0.435   0.300    2   -11.222     1      0.903000   \n",
       "60998         0.893   0.477   10    -7.369     0      0.380000   \n",
       "60999         0.634   0.120    7   -15.085     1      0.887000   \n",
       "\n",
       "       instrumentalness  liveness  valence    tempo  duration_ms  \\\n",
       "0              0.021300    0.3090   0.1550   76.266       143067   \n",
       "1              0.000080    0.2820   0.2980   80.017       236067   \n",
       "2              0.004690    0.0822   0.5120  119.012       197067   \n",
       "3              0.000772    0.1510   0.0783  142.068       224933   \n",
       "4              0.143000    0.4230   0.1670  179.985       616520   \n",
       "...                 ...       ...      ...      ...          ...   \n",
       "60995          0.590000    0.0999   0.0386   72.923       198107   \n",
       "60996          0.006850    0.1940   0.5390  157.670       177970   \n",
       "60997          0.000711    0.1200   0.1160   96.871       219893   \n",
       "60998          0.000008    0.1340   0.4810  120.068       227027   \n",
       "60999          0.000000    0.1210   0.3420   70.486       201027   \n",
       "\n",
       "       time_signature                                         sentiments  \\\n",
       "0                   4                             ['angry', 'energetic']   \n",
       "1                   4                                          ['angry']   \n",
       "2                   4                                          ['angry']   \n",
       "3                   4                                          ['angry']   \n",
       "4                   3  ['angry', 'intense', 'dark', 'powerful', 'atmo...   \n",
       "...               ...                                                ...   \n",
       "60995               1                                           ['soft']   \n",
       "60996               3                                           ['soft']   \n",
       "60997               4                                           ['soft']   \n",
       "60998               4                                           ['soft']   \n",
       "60999               3                                           ['soft']   \n",
       "\n",
       "       no_of_tags  \n",
       "0               3  \n",
       "1               4  \n",
       "2               2  \n",
       "3               3  \n",
       "4              23  \n",
       "...           ...  \n",
       "60995           9  \n",
       "60996           1  \n",
       "60997          10  \n",
       "60998           3  \n",
       "60999           3  \n",
       "\n",
       "[59847 rows x 17 columns]"
      ]
     },
     "execution_count": 3,
     "metadata": {},
     "output_type": "execute_result"
    }
   ],
   "source": [
    "data = data.drop(columns='Unnamed: 0')\n",
    "data"
   ]
  },
  {
   "cell_type": "code",
   "execution_count": 4,
   "metadata": {},
   "outputs": [],
   "source": [
    "trial = pd.read_csv('positive_and_angry_only.csv')"
   ]
  },
  {
   "cell_type": "code",
   "execution_count": 5,
   "metadata": {},
   "outputs": [],
   "source": [
    "trial = trial.drop(columns = ['Unnamed: 0', 'no_of_tags'])"
   ]
  },
  {
   "cell_type": "code",
   "execution_count": 6,
   "metadata": {},
   "outputs": [
    {
     "name": "stdout",
     "output_type": "stream",
     "text": [
      "Requirement already satisfied: sklearn in /opt/anaconda3/envs/data-preprocessing/lib/python3.9/site-packages (0.0)\n",
      "Requirement already satisfied: scikit-learn in /opt/anaconda3/envs/data-preprocessing/lib/python3.9/site-packages (from sklearn) (1.0.2)\n",
      "Requirement already satisfied: threadpoolctl>=2.0.0 in /opt/anaconda3/envs/data-preprocessing/lib/python3.9/site-packages (from scikit-learn->sklearn) (3.1.0)\n",
      "Requirement already satisfied: numpy>=1.14.6 in /opt/anaconda3/envs/data-preprocessing/lib/python3.9/site-packages (from scikit-learn->sklearn) (1.21.2)\n",
      "Requirement already satisfied: joblib>=0.11 in /opt/anaconda3/envs/data-preprocessing/lib/python3.9/site-packages (from scikit-learn->sklearn) (1.0.1)\n",
      "Requirement already satisfied: scipy>=1.1.0 in /opt/anaconda3/envs/data-preprocessing/lib/python3.9/site-packages (from scikit-learn->sklearn) (1.8.0)\n"
     ]
    }
   ],
   "source": [
    "!pip install sklearn"
   ]
  },
  {
   "cell_type": "code",
   "execution_count": 7,
   "metadata": {},
   "outputs": [],
   "source": [
    "import csv\n",
    "from sklearn.utils import Bunch\n",
    "\n",
    "# edit \n",
    "def load_my_fancy_dataset_testing(my_data: pd.DataFrame):\n",
    "      feature_names = my_data.columns\n",
    "      feature_names = feature_names[:-1]\n",
    "      X = []\n",
    "      for feature in feature_names:\n",
    "        feature_array = np.array(my_data[feature])\n",
    "        X.append(feature_array)\n",
    "      Y = my_data['sentiments']\n",
    "      Y = Y.map({'angry': 0, 'positive': 1})\n",
    "      data = np.array(X)\n",
    "      target = np.array(Y)\n",
    "      return Bunch(data=data, target=target, feature_names=feature_names)\n",
    "\n",
    "\n",
    "# eventually want to convert this into a train/test split"
   ]
  },
  {
   "cell_type": "code",
   "execution_count": 8,
   "metadata": {},
   "outputs": [],
   "source": [
    "trial = trial.drop(columns = ['id', 'title', 'artist', 'key', 'loudness', 'modal', 'instrumentalness', 'liveness', 'duration_ms', 'time_signature'])"
   ]
  },
  {
   "cell_type": "code",
   "execution_count": 9,
   "metadata": {},
   "outputs": [],
   "source": [
    "from sklearn.neighbors import KNeighborsClassifier"
   ]
  },
  {
   "cell_type": "code",
   "execution_count": 10,
   "metadata": {},
   "outputs": [],
   "source": [
    "dataset = load_my_fancy_dataset_testing(trial)\n",
    "X = dataset.data\n",
    "Y = dataset.target\n",
    "# print(Y)"
   ]
  },
  {
   "cell_type": "code",
   "execution_count": 11,
   "metadata": {},
   "outputs": [
    {
     "data": {
      "text/plain": [
       "array([[5.08000e-01, 5.87000e-01, 6.65000e-01, ..., 5.26000e-01,\n",
       "        2.93000e-01, 3.04000e-01],\n",
       "       [7.62000e-01, 9.65000e-01, 4.85000e-01, ..., 8.40000e-01,\n",
       "        9.46000e-01, 9.38000e-01],\n",
       "       [2.54000e-01, 2.04000e-02, 4.90000e-01, ..., 2.92000e-03,\n",
       "        3.17000e-02, 5.68000e-04],\n",
       "       [4.44000e-01, 7.71000e-01, 3.06000e-01, ..., 4.33000e-01,\n",
       "        3.11000e-01, 3.77000e-01],\n",
       "       [9.99630e+01, 1.32826e+02, 1.19943e+02, ..., 9.39720e+01,\n",
       "        1.55009e+02, 1.42244e+02]])"
      ]
     },
     "execution_count": 11,
     "metadata": {},
     "output_type": "execute_result"
    }
   ],
   "source": [
    "X"
   ]
  },
  {
   "cell_type": "code",
   "execution_count": 12,
   "metadata": {},
   "outputs": [],
   "source": [
    "X = X.T"
   ]
  },
  {
   "cell_type": "code",
   "execution_count": 37,
   "metadata": {},
   "outputs": [],
   "source": [
    "knn_model = KNeighborsClassifier(n_neighbors=5)\n",
    "knn_model.fit(X, Y)\n",
    "Y_predict = knn_model.predict(X)"
   ]
  },
  {
   "cell_type": "code",
   "execution_count": 40,
   "metadata": {},
   "outputs": [],
   "source": [
    "diff = np.subtract(Y_np, Y_predict_np)"
   ]
  },
  {
   "cell_type": "code",
   "execution_count": 41,
   "metadata": {},
   "outputs": [],
   "source": [
    "no_of_different = 0"
   ]
  },
  {
   "cell_type": "code",
   "execution_count": 42,
   "metadata": {},
   "outputs": [],
   "source": [
    "for i in diff:\n",
    "    if i != 0:\n",
    "        no_of_different += 1"
   ]
  },
  {
   "cell_type": "code",
   "execution_count": 43,
   "metadata": {},
   "outputs": [
    {
     "data": {
      "text/plain": [
       "264"
      ]
     },
     "execution_count": 43,
     "metadata": {},
     "output_type": "execute_result"
    }
   ],
   "source": [
    "no_of_different"
   ]
  },
  {
   "cell_type": "code",
   "execution_count": 50,
   "metadata": {},
   "outputs": [],
   "source": [
    "from sklearn.metrics import ConfusionMatrixDisplay"
   ]
  },
  {
   "cell_type": "code",
   "execution_count": 51,
   "metadata": {},
   "outputs": [
    {
     "data": {
      "image/png": "[encoded data removed]",
      "text/plain": [
       "<Figure size 432x288 with 2 Axes>"
      ]
     },
     "metadata": {
      "needs_background": "light"
     },
     "output_type": "display_data"
    }
   ],
   "source": [
    "ConfusionMatrixDisplay.from_predictions(Y_np, Y_predict_np)\n",
    "plt.show()"
   ]
  },
  {
   "cell_type": "code",
   "execution_count": 56,
   "metadata": {},
   "outputs": [],
   "source": [
    "from sklearn.metrics import accuracy_score\n",
    "from sklearn.metrics import precision_score\n"
   ]
  },
  {
   "cell_type": "code",
   "execution_count": 55,
   "metadata": {},
   "outputs": [
    {
     "data": {
      "text/plain": [
       "0.7532710280373832"
      ]
     },
     "execution_count": 55,
     "metadata": {},
     "output_type": "execute_result"
    }
   ],
   "source": [
    "accuracy_score(Y_np, Y_predict_np)"
   ]
  },
  {
   "cell_type": "code",
   "execution_count": 57,
   "metadata": {},
   "outputs": [
    {
     "data": {
      "text/plain": [
       "0.7748478701825557"
      ]
     },
     "execution_count": 57,
     "metadata": {},
     "output_type": "execute_result"
    }
   ],
   "source": [
    "precision_score(Y_np, Y_predict_np)"
   ]
  },
  {
   "cell_type": "code",
   "execution_count": null,
   "metadata": {},
   "outputs": [],
   "source": []
  }
 ],
 "metadata": {
  "interpreter": {
   "hash": "7304b09f3022c66baf7aa1db98922ee0d0f0c8b92cefee9c279aaf14f0753e32"
  },
  "kernelspec": {
   "display_name": "Python 3.9.7 ('data-preprocessing')",
   "language": "python",
   "name": "python3"
  },
  "language_info": {
   "codemirror_mode": {
    "name": "ipython",
    "version": 3
   },
   "file_extension": ".py",
   "mimetype": "text/x-python",
   "name": "python",
   "nbconvert_exporter": "python",
   "pygments_lexer": "ipython3",
   "version": "3.9.7"
  },
  "orig_nbformat": 4
 },
 "nbformat": 4,
 "nbformat_minor": 2
}
